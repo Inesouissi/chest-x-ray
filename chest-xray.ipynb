{
  "metadata": {
    "kernelspec": {
      "name": "python",
      "display_name": "Pyolite",
      "language": "python"
    },
    "language_info": {
      "codemirror_mode": {
        "name": "python",
        "version": 3
      },
      "file_extension": ".py",
      "mimetype": "text/x-python",
      "name": "python",
      "nbconvert_exporter": "python",
      "pygments_lexer": "ipython3",
      "version": "3.8"
    }
  },
  "nbformat_minor": 4,
  "nbformat": 4,
  "cells": [
    {
      "cell_type": "code",
      "source": "\nimport numpy as np # linear algebra\nimport pandas as pd # data processing, CSV file I/O (e.g. pd.read_csv)\n\nimport os\nfor dirname, _, filenames in os.walk('/kaggle/input'):\n    for filename in filenames:\n        print(os.path.join(dirname, filename))",
      "metadata": {
        "_uuid": "8f2839f25d086af736a60e9eeb907d3b93b6e0e5",
        "_cell_guid": "b1076dfc-b9ad-4769-8c92-a6c4dae69d19",
        "execution": {
          "iopub.status.busy": "2022-03-13T00:33:51.036436Z",
          "iopub.execute_input": "2022-03-13T00:33:51.037002Z",
          "iopub.status.idle": "2022-03-13T00:33:58.984877Z",
          "shell.execute_reply.started": "2022-03-13T00:33:51.036942Z",
          "shell.execute_reply": "2022-03-13T00:33:58.983888Z"
        },
        "trusted": true
      },
      "execution_count": null,
      "outputs": []
    },
    {
      "cell_type": "code",
      "source": "# Imports\nimport os, warnings\nimport matplotlib.pyplot as plt\nfrom matplotlib import gridspec\n\nimport numpy as np\nimport tensorflow as tf\nfrom tensorflow.keras.preprocessing import image_dataset_from_directory\n\n# Reproducability\ndef set_seed(seed=31415):\n    np.random.seed(seed)\n    tf.random.set_seed(seed)\n    os.environ['PYTHONHASHSEED'] = str(seed)\n    os.environ['TF_DETERMINISTIC_OPS'] = '1'\nset_seed()\n\n# Set Matplotlib defaults\nplt.rc('figure', autolayout=True)\nplt.rc('axes', labelweight='bold', labelsize='large',\n       titleweight='bold', titlesize=18, titlepad=10)\nplt.rc('image', cmap='magma')\nwarnings.filterwarnings(\"ignore\") # to clean up output cells\n\n\n# Load training and validation sets\nds_train_ = image_dataset_from_directory(\n    '../input/chest-xray-pneumonia/chest_xray/train',\n    labels='inferred',\n    label_mode='binary',\n    image_size=[128, 128],\n    interpolation='nearest',\n    batch_size=64,\n    shuffle=True,\n)\nds_valid_ = image_dataset_from_directory(\n    '../input/chest-xray-pneumonia/chest_xray/val',\n    labels='inferred',\n    label_mode='binary',\n    image_size=[128, 128],\n    interpolation='nearest',\n    batch_size=64,\n    shuffle=False,\n)\n\n# Data Pipeline\ndef convert_to_float(image, label):\n    image = tf.image.convert_image_dtype(image, dtype=tf.float32)\n    return image, label\n\nAUTOTUNE = tf.data.experimental.AUTOTUNE\nds_train = (\n    ds_train_\n    .map(convert_to_float)\n    .cache()\n    .prefetch(buffer_size=AUTOTUNE)\n)\nds_valid = (\n    ds_valid_\n    .map(convert_to_float)\n    .cache()\n    .prefetch(buffer_size=AUTOTUNE)\n)",
      "metadata": {
        "execution": {
          "iopub.status.busy": "2022-03-13T00:33:58.987197Z",
          "iopub.execute_input": "2022-03-13T00:33:58.987544Z",
          "iopub.status.idle": "2022-03-13T00:33:59.537558Z",
          "shell.execute_reply.started": "2022-03-13T00:33:58.987496Z",
          "shell.execute_reply": "2022-03-13T00:33:59.536838Z"
        },
        "trusted": true
      },
      "execution_count": null,
      "outputs": []
    },
    {
      "cell_type": "code",
      "source": "from tensorflow import keras\nfrom tensorflow.keras import layers\n# these are a new feature in TF 2.2\nfrom tensorflow.keras.layers.experimental import preprocessing\n\n\npretrained_base = tf.keras.models.load_model(\n    '../input/cv-course-models/cv-course-models/vgg16-pretrained-base',\n)\npretrained_base.trainable = False\n\nmodel = keras.Sequential([\n    # Preprocessing\n    preprocessing.RandomFlip('horizontal'), # flip left-to-right\n    preprocessing.RandomContrast(0.5), # contrast change by up to 50%\n    # Base\n    pretrained_base,\n    # Head\n    layers.Flatten(),\n    layers.Dense(6, activation='relu'),\n    layers.Dense(1, activation='sigmoid'),\n])",
      "metadata": {
        "execution": {
          "iopub.status.busy": "2022-03-13T00:33:59.538747Z",
          "iopub.execute_input": "2022-03-13T00:33:59.539084Z",
          "iopub.status.idle": "2022-03-13T00:34:01.425426Z",
          "shell.execute_reply.started": "2022-03-13T00:33:59.539041Z",
          "shell.execute_reply": "2022-03-13T00:34:01.424314Z"
        },
        "trusted": true
      },
      "execution_count": null,
      "outputs": []
    },
    {
      "cell_type": "code",
      "source": "model.compile(\n    optimizer='adam',\n    loss='binary_crossentropy',\n    metrics=['binary_accuracy'],\n)\n\nhistory = model.fit(\n    ds_train,\n    validation_data=ds_valid,\n    epochs=50,\n    verbose=0,\n)",
      "metadata": {
        "execution": {
          "iopub.status.busy": "2022-03-13T00:34:01.427579Z",
          "iopub.execute_input": "2022-03-13T00:34:01.427853Z",
          "iopub.status.idle": "2022-03-13T01:18:53.108944Z",
          "shell.execute_reply.started": "2022-03-13T00:34:01.427823Z",
          "shell.execute_reply": "2022-03-13T01:18:53.107939Z"
        },
        "trusted": true
      },
      "execution_count": null,
      "outputs": []
    },
    {
      "cell_type": "code",
      "source": "import pandas as pd\n\nhistory_frame = pd.DataFrame(history.history)\n\nhistory_frame.loc[:, ['loss', 'val_loss']].plot()\nhistory_frame.loc[:, ['binary_accuracy', 'val_binary_accuracy']].plot();",
      "metadata": {
        "execution": {
          "iopub.status.busy": "2022-03-13T01:18:53.110047Z",
          "iopub.status.idle": "2022-03-13T01:18:53.110643Z",
          "shell.execute_reply.started": "2022-03-13T01:18:53.110406Z",
          "shell.execute_reply": "2022-03-13T01:18:53.110428Z"
        },
        "trusted": true
      },
      "execution_count": null,
      "outputs": []
    }
  ]
}